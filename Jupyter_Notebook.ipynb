{
 "cells": [
  {
   "cell_type": "markdown",
   "metadata": {},
   "source": [
    "<center>\n",
    "    <img src=\"https://cf-courses-data.s3.us.cloud-object-storage.appdomain.cloud/IBMDeveloperSkillsNetwork-DS0105EN-SkillsNetwork/labs/Module2/images/SN_web_lightmode.png\" width=\"300\" alt=\"cognitiveclass.ai logo\">\n",
    "</center>\n"
   ]
  },
  {
   "cell_type": "markdown",
   "metadata": {},
   "source": [
    "#### My Jupyterlite Notebook Assignment\n"
   ]
  },
  {
   "cell_type": "markdown",
   "metadata": {},
   "source": [
    "#### Introduction  \n",
    "I will be using code cells to write and execute Python code, as well as markdown cells to provide explanations, descriptions, and visual aids.\n"
   ]
  },
  {
   "cell_type": "markdown",
   "metadata": {},
   "source": [
    "#### Data Science Languages  \n",
    "Here are some popular programming languages used in data science:\n",
    "\n",
    "Python\n",
    "R\n",
    "SQL\n",
    "Julia\n",
    "MATLAB\n",
    "Scala\n",
    "Java\n",
    "Each of these languages has its own strengths and weaknesses, and the choice of language often depends on the specific requirements of the project at hand. Python is currently one of the most popular languages for data science due to its simplicity, versatility, and vast library of data science tools and packages.\n"
   ]
  },
  {
   "cell_type": "markdown",
   "metadata": {},
   "source": [
    "#### Data Science Libraries in Python  \n",
    "Python is a popular language for data science, in part due to its large and active community of developers who have created many powerful libraries for working with data. Here are some popular data science libraries in Python:\n",
    "\n",
    "NumPy\n",
    "Pandas\n",
    "Matplotlib\n",
    "Seaborn\n",
    "Scikit-learn\n",
    "TensorFlow\n",
    "PyTorch\n",
    "Keras\n",
    "These libraries provide a range of functionality, from basic numerical operations to advanced machine learning and deep learning models. Using these libraries, data scientists can more easily manipulate and analyze data, build predictive models, and create data visualizations.\n"
   ]
  },
  {
   "cell_type": "markdown",
   "metadata": {},
   "source": [
    "#### Data Science Tools\n",
    "Jupyter Notebook\tAn open-source web application that allows you to create and share documents containing live code, equations, visualizations, and narrative text.\n",
    "Apache Spark\tA fast and general-purpose cluster computing system that provides an interface for programming entire clusters with implicit data parallelism and fault tolerance.\n",
    "Tableau\tA data visualization software that allows you to connect, visualize, and share data in a way that makes insights understandable and accessible to everyone.\n",
    "SAS\tA suite of software products for data management, advanced analytics, and business intelligence.\n",
    "Excel\tA popular spreadsheet program that can be used for basic data analysis and visualization.\n",
    "Git\tA distributed version control system used for software development, but also useful for managing data science projects and collaboration.\n",
    "Anaconda\tA distribution of Python and R for scientific computing that includes many pre-built packages and tools for data science.\n"
   ]
  },
  {
   "cell_type": "markdown",
   "metadata": {},
   "source": [
    "#### Arithmetic Expressions\n"
   ]
  },
  {
   "cell_type": "code",
   "execution_count": 4,
   "metadata": {},
   "outputs": [
    {
     "data": {
      "text/plain": [
       "4"
      ]
     },
     "execution_count": 4,
     "metadata": {},
     "output_type": "execute_result"
    }
   ],
   "source": [
    "# Addition\n",
    "2 + 2\n"
   ]
  },
  {
   "cell_type": "markdown",
   "metadata": {},
   "source": [
    "#### Arithmetic Expressions\n"
   ]
  },
  {
   "cell_type": "code",
   "execution_count": 5,
   "metadata": {},
   "outputs": [
    {
     "data": {
      "text/plain": [
       "4"
      ]
     },
     "execution_count": 5,
     "metadata": {},
     "output_type": "execute_result"
    }
   ],
   "source": [
    "# Addition\n",
    "2 + 2\n"
   ]
  },
  {
   "cell_type": "code",
   "execution_count": 6,
   "metadata": {},
   "outputs": [
    {
     "data": {
      "text/plain": [
       "12"
      ]
     },
     "execution_count": 6,
     "metadata": {},
     "output_type": "execute_result"
    }
   ],
   "source": [
    "\n",
    "# Multiplication\n",
    "3 * 4\n",
    "\n"
   ]
  },
  {
   "cell_type": "code",
   "execution_count": 7,
   "metadata": {},
   "outputs": [
    {
     "name": "stdout",
     "output_type": "stream",
     "text": [
      "2.0\n"
     ]
    }
   ],
   "source": [
    "# Define a function to convert minutes to hours\n",
    "def minutes_to_hours(minutes):\n",
    "    hours = minutes / 60\n",
    "    return hours\n",
    "\n",
    "# Test the function with a value of 120 minutes\n",
    "print(minutes_to_hours(120))\n"
   ]
  },
  {
   "cell_type": "markdown",
   "metadata": {},
   "source": [
    "#### Objectives\n",
    "When working on a data science project, some common objectives might include:\n",
    "\n",
    "Exploring and understanding the data: This involves analyzing the data to gain insights into its structure and identifying any patterns or trends that may be relevant to the project goals.\n",
    "Cleaning and preprocessing the data: This involves cleaning up any missing or inaccurate data, converting data into a suitable format, and transforming the data as necessary to prepare it for analysis.\n",
    "Developing predictive models: This involves building models that can predict future outcomes or classify data into different categories based on past observations.\n",
    "Evaluating and refining the models: This involves testing the performance of the models on new data, fine-tuning the models to improve their accuracy, and validating the models to ensure that they are robust and reliable.\n",
    "Communicating the results: This involves presenting the findings and insights from the analysis in a clear and understandable way, using visualizations and other techniques to convey the information to stakeholders and decision-maker"
   ]
  },
  {
   "cell_type": "markdown",
   "metadata": {},
   "source": []
  }
 ],
 "metadata": {
  "kernelspec": {
   "display_name": "Python",
   "language": "python",
   "name": "conda-env-python-py"
  },
  "language_info": {
   "codemirror_mode": {
    "name": "ipython",
    "version": 3
   },
   "file_extension": ".py",
   "mimetype": "text/x-python",
   "name": "python",
   "nbconvert_exporter": "python",
   "pygments_lexer": "ipython3",
   "version": "3.7.12"
  }
 },
 "nbformat": 4,
 "nbformat_minor": 4
}
